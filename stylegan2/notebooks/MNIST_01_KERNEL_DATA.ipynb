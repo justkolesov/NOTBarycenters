{
 "cells": [
  {
   "cell_type": "markdown",
   "id": "bade8ceb",
   "metadata": {},
   "source": [
    "# Experiments for finding barycenter with kernel cost on MNIST 0 and 1 (DATA SPACE)"
   ]
  },
  {
   "cell_type": "code",
   "execution_count": 1,
   "id": "6aed4629",
   "metadata": {},
   "outputs": [],
   "source": [
    "import warnings\n",
    "warnings.filterwarnings('ignore')"
   ]
  },
  {
   "cell_type": "code",
   "execution_count": 2,
   "id": "79c0eba7",
   "metadata": {},
   "outputs": [],
   "source": [
    "import torch\n",
    "import torchvision\n",
    "\n",
    "import numpy as np\n",
    "import matplotlib.pyplot as plt\n",
    "%matplotlib inline\n",
    "\n",
    "from tqdm import tqdm\n",
    "import itertools\n",
    "import wandb\n",
    "import os\n",
    "import sys\n",
    "\n",
    "sys.path.append(\"../../\")\n",
    "from src.utils import Config, weights_init_D, freeze, unfreeze\n",
    "from src.data import DatasetSampler\n",
    "from src.models import ResNet_D, UNet\n",
    "# from src.train import train\n",
    "from src.train_kernel import train_kernel_data\n",
    "from src.cost import strong_cost\n",
    "\n",
    "%load_ext autoreload\n",
    "%autoreload 2"
   ]
  },
  {
   "cell_type": "markdown",
   "id": "dfb62487",
   "metadata": {},
   "source": [
    "## 1. Config"
   ]
  },
  {
   "cell_type": "code",
   "execution_count": 3,
   "id": "8fdc72f6",
   "metadata": {
    "tags": [
     "parameters"
    ]
   },
   "outputs": [],
   "source": [
    "BATCH_SIZE = 128\n",
    "NUM_EPOCHS = 10000\n",
    "INNER_ITERATIONS = 10\n",
    "LR = 2e-4\n",
    "GPU_DEVICE = 0\n",
    "KREG = 'energy' # 'mse', 'energy', 'gaussian', 'laplacian'\n",
    "GAMMA = 1.0\n",
    "Z_STD = 0.1"
   ]
  },
  {
   "cell_type": "code",
   "execution_count": 4,
   "id": "a176ad78",
   "metadata": {},
   "outputs": [],
   "source": [
    "CONFIG = Config()\n",
    "\n",
    "CONFIG.DIM = 1*32*32\n",
    "CONFIG.CLASSES = [0,1]\n",
    "CONFIG.K = 2# amount of distributions\n",
    "CONFIG.LAMBDAS = [0.5,0.5]\n",
    "CONFIG.IMG_SIZE = 32\n",
    "CONFIG.NC=1\n",
    "CONFIG.ZC=1\n",
    "CONFIG.DATASET_PATH = '../../data/MNIST'  \n",
    "CONFIG.DATASET = 'mnist'\n",
    "CONFIG.Z_STD = Z_STD\n",
    "CONFIG.RESNET_ENCODER_LATENT = 4\n",
    "# CONFIG.FLAG_LATENT = False\n",
    "# CONFIG.FLAG_LATENT_CRITIC = False\n",
    "\n",
    "# kernel regularization\n",
    "CONFIG.KREG = KREG\n",
    "CONFIG.GAMMA = GAMMA\n",
    "\n",
    "CONFIG.LR = LR\n",
    "# CONFIG.CLIP_GRADS_NORM = False\n",
    "CONFIG.BETAS = (0.2, 0.99)\n",
    "CONFIG.BATCH_SIZE = BATCH_SIZE\n",
    "CONFIG.NUM_EPOCHS = NUM_EPOCHS\n",
    "CONFIG.INNER_ITERATIONS = INNER_ITERATIONS # поменьше можно сделать\n",
    "\n",
    "CONFIG.GPU_DEVICE = GPU_DEVICE\n",
    "assert torch.cuda.is_available()\n",
    "CONFIG.DEVICE = f'cuda:{CONFIG.GPU_DEVICE}'"
   ]
  },
  {
   "cell_type": "markdown",
   "id": "16344fc7",
   "metadata": {},
   "source": [
    "## 2. Data for experiment"
   ]
  },
  {
   "cell_type": "code",
   "execution_count": 5,
   "id": "eadb3659",
   "metadata": {},
   "outputs": [],
   "source": [
    "transform = torchvision.transforms.Compose([\n",
    "    torchvision.transforms.Resize((CONFIG.IMG_SIZE, CONFIG.IMG_SIZE)),\n",
    "    torchvision.transforms.ToTensor(),\n",
    "    torchvision.transforms.Lambda(lambda x: 2 * x - 1)\n",
    "])\n",
    "\n",
    "data_samplers = []\n",
    " \n",
    "\n",
    "for k in range(CONFIG.K):\n",
    "    dataset = torchvision.datasets.MNIST(root=CONFIG.DATASET_PATH,\n",
    "                                         download=True, \n",
    "                                         transform=transform)\n",
    "    \n",
    "    idx = [t == CONFIG.CLASSES[k] for t in dataset.targets]\n",
    "    dataset.targets, dataset.data = np.array(dataset.targets)[idx], torch.tensor(dataset.data)[idx] \n",
    "    data_samplers.append(DatasetSampler(dataset,flag_label=True,num_workers=1, batch_size=256))"
   ]
  },
  {
   "cell_type": "markdown",
   "id": "1374a026",
   "metadata": {},
   "source": [
    "## 3. Potentials and maps"
   ]
  },
  {
   "cell_type": "code",
   "execution_count": 6,
   "id": "1dd1fad2",
   "metadata": {},
   "outputs": [],
   "source": [
    "if CONFIG.K == 2:\n",
    "    \n",
    "    f = ResNet_D(size=CONFIG.IMG_SIZE,\n",
    "              nc=CONFIG.NC,\n",
    "              nfilter=64, \n",
    "              nfilter_max=512, \n",
    "              res_ratio=0.1).to(CONFIG.DEVICE)\n",
    "    \n",
    "    weights_init_D(f)\n",
    "    nets_for_pot = [f]\n",
    "     \n",
    "    \n",
    "    nets_for_pot_opt = torch.optim.Adam( nets_for_pot[0].parameters() ,\n",
    "                               CONFIG.LR, betas=CONFIG.BETAS)\n",
    "                   \n",
    "else: \n",
    "    def new_f():\n",
    "        f = ResNet_D(size=CONFIG.IMG_SIZE,\n",
    "                  nc=CONFIG.NC,\n",
    "                  nfilter=64, \n",
    "                  nfilter_max=512, \n",
    "                  res_ratio=0.1).to(CONFIG.DEVICE)\n",
    "        weights_init_D(f)\n",
    "        return f\n",
    "\n",
    "    nets_for_pot = [new_f() for i in range(CONFIG.K)]\n",
    "    \n",
    "    param_nets = [net.parameters() for net in nets_for_pot]\n",
    "    nets_for_pot_opt = torch.optim.Adam(itertools.chain(*param_nets),\n",
    "                               CONFIG.LR, betas=CONFIG.BETAS)\n",
    " "
   ]
  },
  {
   "cell_type": "code",
   "execution_count": 7,
   "id": "09d38e7d",
   "metadata": {},
   "outputs": [],
   "source": [
    "maps = [UNet(n_channels=CONFIG.NC + CONFIG.ZC, n_classes=CONFIG.NC,\n",
    "             base_factor=48 , bilinear=True).to(CONFIG.DEVICE) for i in range(CONFIG.K)]\n",
    "\n",
    "param_maps = [mp.parameters() for mp in maps]\n",
    "maps_opt = torch.optim.Adam(itertools.chain(*param_maps),\n",
    "                               CONFIG.LR, betas=CONFIG.BETAS)"
   ]
  },
  {
   "cell_type": "markdown",
   "id": "91c283f3",
   "metadata": {},
   "source": [
    "## 4. Train"
   ]
  },
  {
   "cell_type": "code",
   "execution_count": 8,
   "id": "a1644f45",
   "metadata": {},
   "outputs": [],
   "source": [
    "WANDB_MODE = \"disabled\" # 'online', \"disabled\""
   ]
  },
  {
   "cell_type": "code",
   "execution_count": 9,
   "id": "2c8add69",
   "metadata": {
    "scrolled": true
   },
   "outputs": [
    {
     "name": "stderr",
     "output_type": "stream",
     "text": [
      "\u001b[34m\u001b[1mwandb\u001b[0m: \u001b[33mWARNING\u001b[0m Disabling the wandb service is deprecated as of version 0.18.0 and will be removed in version 0.19.0.\n"
     ]
    },
    {
     "data": {
      "text/html": [
       "<button onClick=\"this.nextSibling.style.display='block';this.style.display='none';\">Display W&B run</button><iframe src='?jupyter=true' style='border:none;width:100%;height:420px;display:none;'></iframe>"
      ],
      "text/plain": [
       "<wandb.sdk.wandb_run.Run at 0x1554419856c0>"
      ]
     },
     "execution_count": 9,
     "metadata": {},
     "output_type": "execute_result"
    }
   ],
   "source": [
    "wandb.init(project=\"BNOT\" ,\n",
    "           name=f\"mnist01_kernel_test_BS_{CONFIG.BATCH_SIZE}_EP_{CONFIG.NUM_EPOCHS}_INN_{CONFIG.INNER_ITERATIONS}_LR_{CONFIG.LR}\" ,\n",
    "           config=CONFIG, mode=WANDB_MODE, reinit=True)"
   ]
  },
  {
   "cell_type": "code",
   "execution_count": 11,
   "id": "044eb02d",
   "metadata": {},
   "outputs": [],
   "source": [
    "train_kernel_data(nets_for_pot, \n",
    "          maps,\n",
    "          nets_for_pot_opt,\n",
    "          maps_opt,\n",
    "          data_samplers,\n",
    "          CONFIG)"
   ]
  },
  {
   "cell_type": "code",
   "execution_count": 12,
   "id": "1503c4d9",
   "metadata": {},
   "outputs": [],
   "source": [
    "wandb.finish()"
   ]
  },
  {
   "cell_type": "code",
   "execution_count": null,
   "id": "48016602",
   "metadata": {},
   "outputs": [],
   "source": []
  }
 ],
 "metadata": {
  "celltoolbar": "Tags",
  "kernelspec": {
   "display_name": "Python 3 (ipykernel)",
   "language": "python",
   "name": "python3"
  },
  "language_info": {
   "codemirror_mode": {
    "name": "ipython",
    "version": 3
   },
   "file_extension": ".py",
   "mimetype": "text/x-python",
   "name": "python",
   "nbconvert_exporter": "python",
   "pygments_lexer": "ipython3",
   "version": "3.10.12"
  }
 },
 "nbformat": 4,
 "nbformat_minor": 5
}
